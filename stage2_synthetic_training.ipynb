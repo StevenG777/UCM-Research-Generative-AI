{
 "cells": [
  {
   "cell_type": "code",
   "execution_count": null,
   "id": "0d251634",
   "metadata": {},
   "outputs": [],
   "source": [
    "# Import Library\n",
    "import pandas as pd\n",
    "import os\n",
    "from sklearn.model_selection import train_test_split"
   ]
  },
  {
   "cell_type": "code",
   "execution_count": null,
   "id": "29055230",
   "metadata": {},
   "outputs": [],
   "source": [
    "current_path = os.getcwd()\n",
    "os.chdir(os.path.join(os.getcwd(), \"CSV\"))\n",
    "\n",
    "# Read CSV Files and Import Dataframes\n",
    "happy = pd.read_csv(\"happy.csv\", names=[\"image\", \"label\"], header=None)\n",
    "sad = pd.read_csv(\"sad.csv\", names=[\"image\", \"label\"], header=None)\n",
    "neutral = pd.read_csv(\"neutral.csv\", names=[\"image\", \"label\"], header=None)\n",
    "\n",
    "# Sample Real Images\n",
    "happy_sample = happy.sample(n=5000)\n",
    "sad_sample = sad.sample(n=5000)\n",
    "neutral_sample = neutral.sample(n=5000)"
   ]
  },
  {
   "cell_type": "code",
   "execution_count": null,
   "id": "d80614aa",
   "metadata": {},
   "outputs": [],
   "source": [
    "os.chdir(os.path.join(os.getcwd(), \"Gan\"))\n",
    "\n",
    "# Read CSV Files and Import Dataframes\n",
    "g_happy = pd.read_csv(\"g_happy.csv\", names=[\"image\", \"label\"], header=None)\n",
    "g_sad = pd.read_csv(\"g_sad.csv\", names=[\"image\", \"label\"], header=None)\n",
    "g_neutral = pd.read_csv(\"g_neutral.csv\", names=[\"image\", \"label\"], header=None)\n",
    "\n",
    "# Sample Synthetic Images\n",
    "fake_happy = g_happy.sample(0)\n",
    "fake_sad = g_sad.sample(0)\n",
    "fake_neutral = g_neutral.sample(0)"
   ]
  },
  {
   "cell_type": "code",
   "execution_count": null,
   "id": "bda91050",
   "metadata": {},
   "outputs": [],
   "source": [
    "# Train/Test Real Dataset Split\n",
    "train_2, test_2 = train_test_split(happy_sample, test_size=0.2, random_state=42)\n",
    "train_3, test_3 = train_test_split(sad_sample, test_size=0.2, random_state=42)\n",
    "train_4, test_4 = train_test_split(neutral_sample, test_size=0.2, random_state=42)\n",
    "\n",
    "# Mix Real/Synthetic Train Dataset\n",
    "train_happy = pd.concat([fake_happy, train_2], ignore_index=True)\n",
    "train_sad = pd.concat([fake_sad, train_3], ignore_index=True)\n",
    "train_neutral = pd.concat([fake_neutral, train_4], ignore_index=True)"
   ]
  },
  {
   "cell_type": "code",
   "execution_count": null,
   "id": "fc05c31d",
   "metadata": {},
   "outputs": [],
   "source": [
    "train_data = pd.concat([train_happy, train_sad, train_neutral], ignore_index=True)\n",
    "test_data = pd.concat([test_2, test_3, test_4], ignore_index=True)\n",
    "\n",
    "train_data.columns = [\"image\", \"label\"]\n",
    "test_data.columns = [\"image\", \"label\"]\n",
    "\n",
    "train_data = train_data[train_data[\"label\"] != \"label\"]\n",
    "test_data = test_data[test_data[\"label\"] != \"label\"]\n",
    "\n",
    "print(\"Shape of train_data:\", train_data.shape)\n",
    "print(\"Shape of test_data:\", test_data.shape)\n",
    "\n",
    "\n",
    "print(\"Shape of train_data:\", train_data)\n",
    "print(\"Shape of test_data:\", test_data)\n",
    "\n",
    "train_data.to_csv(\"train_data.csv\", index=False)\n",
    "test_data.to_csv(\"test_data.csv\", index=False)"
   ]
  },
  {
   "cell_type": "code",
   "execution_count": null,
   "id": "6fbe83d5",
   "metadata": {},
   "outputs": [],
   "source": [
    "# Code in Plans\n",
    "\n",
    "# test_0,1,2,3,4 = 1000\n",
    "# train_0,1,2,3,4 = 4000\n",
    "# fake_images = 4000\n",
    "\n",
    "# train_0 = train_0.sample(4000)\n",
    "# train_1 = train_2.sample(4000)\n",
    "# train_2 = train_2.sample(4000)\n",
    "# train_3 = train_3.sample(4000)\n",
    "# train_4 = train_4.sample(4000)\n"
   ]
  }
 ],
 "metadata": {
  "kernelspec": {
   "display_name": "Python 3 (ipykernel)",
   "language": "python",
   "name": "python3"
  },
  "language_info": {
   "codemirror_mode": {
    "name": "ipython",
    "version": 3
   },
   "file_extension": ".py",
   "mimetype": "text/x-python",
   "name": "python",
   "nbconvert_exporter": "python",
   "pygments_lexer": "ipython3",
   "version": "3.10.9"
  }
 },
 "nbformat": 4,
 "nbformat_minor": 5
}
