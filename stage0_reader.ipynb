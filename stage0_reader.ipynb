{
 "cells": [
  {
   "cell_type": "code",
   "execution_count": 8,
   "id": "84a7f92f",
   "metadata": {},
   "outputs": [],
   "source": [
    "# Import Library\n",
    "import pandas as pd\n",
    "import os"
   ]
  },
  {
   "cell_type": "code",
   "execution_count": 9,
   "id": "31485811",
   "metadata": {},
   "outputs": [],
   "source": [
    "# Define Class\n",
    "class_names = [\"fear\", \"angry\", \"happy\", \"sad\", \"neutral\"]\n",
    "\n",
    "# Define Source Path \n",
    "current_path = os.getcwd()\n",
    "source_path = os.path.join(current_path,\"Emotion\")\n",
    "\n",
    "# Create New Directory\n",
    "new_dir_path = os.path.join(path, \"CSV\")\n",
    "os.makedirs(new_dir_path, exist_ok=True)"
   ]
  },
  {
   "cell_type": "code",
   "execution_count": 10,
   "id": "e4f1308e",
   "metadata": {},
   "outputs": [],
   "source": [
    "# Fetch images and Format in CSV\n",
    "for class_name in class_names:\n",
    "    # Define path for each image class\n",
    "    class_file = os.path.join(source_path, class_name)\n",
    "    # Initialize images & label list\n",
    "    images = []\n",
    "    labels = []\n",
    "    \n",
    "    for filename in os.listdir(class_file):\n",
    "        if filename.endswith(\".jpg\"):\n",
    "            # Define path for each image\n",
    "            image_path = os.path.join(class_file, filename)\n",
    "            # Append to images & labels list\n",
    "            images.append(image_path)\n",
    "            labels.append(class_names.index(class_name))\n",
    "    \n",
    "    # Convert list to dataframe type\n",
    "    df = pd.DataFrame(data={\"image\": images, \"label\": labels})\n",
    "    \n",
    "    # Switch to CSV Directory\n",
    "    os.chdir(new_dir_path)\n",
    "    \n",
    "    # Store in csv file\n",
    "    df.to_csv(f\"{class_name}.csv\", sep=\",\", index=False)\n",
    "    \n",
    "    # Switch back to Original Directory\n",
    "    os.chdir(current_path)"
   ]
  },
  {
   "cell_type": "code",
   "execution_count": null,
   "id": "f59b963b",
   "metadata": {},
   "outputs": [],
   "source": []
  }
 ],
 "metadata": {
  "kernelspec": {
   "display_name": "Python 3 (ipykernel)",
   "language": "python",
   "name": "python3"
  },
  "language_info": {
   "codemirror_mode": {
    "name": "ipython",
    "version": 3
   },
   "file_extension": ".py",
   "mimetype": "text/x-python",
   "name": "python",
   "nbconvert_exporter": "python",
   "pygments_lexer": "ipython3",
   "version": "3.10.9"
  }
 },
 "nbformat": 4,
 "nbformat_minor": 5
}
